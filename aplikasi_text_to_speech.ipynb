{
  "nbformat": 4,
  "nbformat_minor": 0,
  "metadata": {
    "colab": {
      "provenance": []
    },
    "kernelspec": {
      "name": "python3",
      "display_name": "Python 3"
    },
    "language_info": {
      "name": "python"
    }
  },
  "cells": [
    {
      "cell_type": "markdown",
      "source": [
        "# Konversi Teks ke Suara (Voice/Speech)\n"
      ],
      "metadata": {
        "id": "2hwTbeFAJdXc"
      }
    },
    {
      "cell_type": "markdown",
      "source": [
        "Ada beberapa API yang tersedia untuk mengonversi teks menjadi ucapan suara (*voice/speech*) dengan Bahasa Python. Salah satu API tersebut adalah Google Text to Speech API yang umumnya dikenal sebagai API gTTS. gTTS adalah alat yang sangat mudah digunakan yang mengubah teks yang dimasukkan, menjadi audio yang dapat disimpan sebagai file mp3.\n",
        "\n",
        "API gTTS mendukung beberapa bahasa termasuk Inggris, Hindi, Tamil, Prancis, Jerman, dan banyak lagi. Pidato (suara) yang dihasilkan dapat disampaikan dalam salah satu dari dua kecepatan audio yang tersedia, cepat atau lambat. Namun, pada pembaruan terbaru, suara audio yang dihasilkan tidak dapat diubah."
      ],
      "metadata": {
        "id": "LzZgu-p3JvwM"
      }
    },
    {
      "cell_type": "markdown",
      "source": [
        "Langka awal menginstal API gTTS\n"
      ],
      "metadata": {
        "id": "NEzsQbw_LENb"
      }
    },
    {
      "cell_type": "code",
      "execution_count": 28,
      "metadata": {
        "colab": {
          "base_uri": "https://localhost:8080/"
        },
        "id": "Pq-EE76yH2XK",
        "outputId": "94003b89-6ae0-4957-b77f-fa3eecf855ec"
      },
      "outputs": [
        {
          "output_type": "stream",
          "name": "stdout",
          "text": [
            "Looking in indexes: https://pypi.org/simple, https://us-python.pkg.dev/colab-wheels/public/simple/\n",
            "Requirement already satisfied: gTTS in /usr/local/lib/python3.8/dist-packages (2.3.1)\n",
            "Requirement already satisfied: requests<3,>=2.27 in /usr/local/lib/python3.8/dist-packages (from gTTS) (2.28.2)\n",
            "Requirement already satisfied: click<8.2,>=7.1 in /usr/local/lib/python3.8/dist-packages (from gTTS) (7.1.2)\n",
            "Requirement already satisfied: charset-normalizer<4,>=2 in /usr/local/lib/python3.8/dist-packages (from requests<3,>=2.27->gTTS) (3.0.1)\n",
            "Requirement already satisfied: certifi>=2017.4.17 in /usr/local/lib/python3.8/dist-packages (from requests<3,>=2.27->gTTS) (2022.12.7)\n",
            "Requirement already satisfied: idna<4,>=2.5 in /usr/local/lib/python3.8/dist-packages (from requests<3,>=2.27->gTTS) (2.10)\n",
            "Requirement already satisfied: urllib3<1.27,>=1.21.1 in /usr/local/lib/python3.8/dist-packages (from requests<3,>=2.27->gTTS) (1.24.3)\n"
          ]
        }
      ],
      "source": [
        "pip install gTTS\n"
      ]
    },
    {
      "cell_type": "code",
      "source": [
        "# Import modul yang dibutuhkan untuk konversi text to speech\n",
        "from gtts import gTTS\n",
        "\n",
        "# Tulis teks yang akan kita konversikan ke audio/speech\n",
        "mytext = 'Welcome to Global Studio Center. Global Studio Center is a professional learning center which have programs, building creativity, and improving the knowledge of algorithm, coding, and computer science'\n",
        "\n",
        "# Bahasa yang digunakan untuk mengkonversikan teks ke suara audio\n",
        "language = 'en'\n",
        "\n",
        "# Meneruskan teks dan bahasa ke mesin, di sini kita telah menandai slow=False.\n",
        "# Yang akan memberitahu modul yang seharusnya menjadi audio yang dikonversi memiliki kecepatan tinggi\n",
        "myobj = gTTS(text=mytext, lang=language, slow=False)\n",
        "\n",
        "# Simpan audio yang sudah dikonversi kedalam file .mp3\n",
        "# Nama file nya misalnya 'konversi.mp3'\n",
        "myobj.save(\"conversion.mp3\")\n"
      ],
      "metadata": {
        "id": "nt5CCX1CLdQV"
      },
      "execution_count": 29,
      "outputs": []
    },
    {
      "cell_type": "code",
      "source": [
        "from gtts import gTTS\n",
        "\n",
        "mytext = 'Guwe Teguh. Lo siapa?'\n",
        "\n",
        "language = 'id'\n",
        "\n",
        "myobj = gTTS(text=mytext, lang=language, slow=False)\n",
        "\n",
        "myobj.save(\"konversi.mp3\")\n"
      ],
      "metadata": {
        "id": "HDASrPzuR3sf"
      },
      "execution_count": 30,
      "outputs": []
    }
  ]
}